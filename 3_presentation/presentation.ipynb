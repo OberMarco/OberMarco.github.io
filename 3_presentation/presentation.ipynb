{
 "cells": [
  {
   "cell_type": "markdown",
   "metadata": {
    "slideshow": {
     "slide_type": "notes"
    }
   },
   "source": [
    "<!-- Slide Einstellungen -->\n",
    "<!-- jupyter-nbconvert --to slides presentation.ipynb --SlidesExporter.reveal_theme=white -->\n",
    "<style>\n",
    ".reveal .slides {\n",
    "    width: 1300px !important;\n",
    "}\n",
    "</style>\n",
    "<!-- Schriftart -->\n",
    "<style>\n",
    ".reveal .slides {\n",
    "    font-family: 'Arial', sans-serif;\n",
    "}\n",
    "</style>\n",
    "<!-- Hintergrundbild  -->\n",
    "<style>\n",
    ".reveal .slides {\n",
    "    background-image: url('background.png');\n",
    "     background-size: cover;\n",
    "    background-position: center center;\n",
    "    background-repeat: no-repeat;\n",
    "}\n",
    "</style>\n",
    "<!-- Fußzeile -->\n",
    "<style>\n",
    ".reveal .slides > section:after {\n",
    "    content: \"Marco Obermeier - Energy Management with AI Methods\";\n",
    "    font-size: 10px;\n",
    "    position: absolute;\n",
    "    font-family: 'Arial', sans-serif;\n",
    "    bottom: -20px;\n",
    "    width: 100%;\n",
    "    padding: 10px 0;\n",
    "    text-align: center;\n",
    "    color: #000;\n",
    "}\n",
    "</style>\n",
    "<!-- Datum unten rechts -->\n",
    "<script>\n",
    "var currentDate = new Date().toLocaleDateString();\n",
    "var dateElement = document.createElement('div');\n",
    "dateElement.style.position = 'absolute';\n",
    "dateElement.style.bottom = '-20px';\n",
    "dateElement.style.left = '0';\n",
    "dateElement.style.padding = '10px';\n",
    "dateElement.style.fontSize = '10px';\n",
    "dateElement.style.fontFamily = 'Arial, sans-serif';\n",
    "dateElement.style.textAlign = 'right';\n",
    "dateElement.style.color = '#000';\n",
    "dateElement.innerHTML = currentDate;\n",
    "document.querySelector('.reveal .slides').appendChild(dateElement);\n",
    "</script>"
   ]
  },
  {
   "cell_type": "markdown",
   "metadata": {
    "slideshow": {
     "slide_type": "slide"
    }
   },
   "source": [
    "<!-- Slide 1 -->\n",
    "## Projectwork in the subject Energy Management with AI Methods at the OTH Amberg\n",
    "\n",
    "Marco Obermeier  \n",
    "Master of Applied Research in Engineering Science  \n",
    "Martikelnummer: 00165198  \n",
    "Hochschule Ansbach  \n",
    "\n",
    "---"
   ]
  },
  {
   "cell_type": "markdown",
   "metadata": {
    "slideshow": {
     "slide_type": "slide"
    }
   },
   "source": [
    "<!-- jupyter-nbconvert --to slides project.ipynb -->\n",
    "<!-- Slide 2 -->\n",
    "## Topics\n",
    "\n",
    "\n",
    "### 1. Taskunderstanding\n",
    "### 2. System Design\n",
    "### 3. System Configuration\n",
    "\n",
    "---"
   ]
  },
  {
   "cell_type": "markdown",
   "metadata": {
    "slideshow": {
     "slide_type": "slide"
    }
   },
   "source": [
    "# Taskunderstanding"
   ]
  },
  {
   "cell_type": "markdown",
   "metadata": {
    "slideshow": {
     "slide_type": "slide"
    }
   },
   "source": [
    "<!-- Slide 3 -->\n",
    "## Taskunderstanding\n",
    "\n",
    "\n",
    "\n",
    "1. System Design of a cross-sectoral energy system for heating of a city in southern Germany:\n",
    "   - Heat pump (air/water or water/water, cop based on temperature)\n",
    "   - PV or solar thermal \n",
    "   - Backup or peak load system\n",
    "   - Large scale thermal storage (seasonal storage)\n",
    "   - Connection to public grid\n",
    "  \n",
    "2. System Configuration (Oemof):\n",
    "   - Component sizing (feasible component sizes)\n",
    "   - Cost-optimized schedule (feasible schedule min/max up-downtimes)\n",
    "   - CO2-optimized schedule\n",
    "\n",
    "3. Cost-Calculation:\n",
    "   - Yearly CAPEX-Costs\n",
    "   - Yearly OPEX-Costs\n",
    "   - Levelized-Costs of Energy\n",
    "---"
   ]
  },
  {
   "cell_type": "markdown",
   "metadata": {
    "slideshow": {
     "slide_type": "slide"
    }
   },
   "source": [
    "<!-- Slide 3 -->\n",
    "## Given data: Heat and electric demand\n",
    "\n",
    "- Electric peak load: **2500 kW**\n",
    "- Heating peak load: **850 kW**\n",
    "\n",
    "<iframe src=\"../1_plot/Zeitreihe_Electricity Demand normalized to 1kW.html\" width=\"100%\" height=\"250\" frameborder=\"0\"></iframe>\n",
    "\n",
    "<iframe src=\"../1_plot/Zeitreihe_Heat Demand normalized to 1kW.html\" width=\"100%\" height=\"250\" frameborder=\"0\"></iframe>\n"
   ]
  },
  {
   "cell_type": "markdown",
   "metadata": {
    "slideshow": {
     "slide_type": "subslide"
    }
   },
   "source": [
    "## Given data: Heat Demand\n",
    "<iframe src=\"../1_plot/Zeitreihe_Heat Demand normalized to 1kW.html\" width=\"100%\" height=\"550\" frameborder=\"0\"></iframe>\n",
    "\n",
    "---"
   ]
  },
  {
   "cell_type": "markdown",
   "metadata": {
    "slideshow": {
     "slide_type": "subslide"
    }
   },
   "source": [
    "## Given data: electric Demand\n",
    "\n",
    "<iframe src=\"../1_plot/Zeitreihe_Electricity Demand normalized to 1kW.html\" width=\"100%\" height=\"550\" frameborder=\"0\"></iframe>\n",
    "---"
   ]
  },
  {
   "cell_type": "markdown",
   "metadata": {
    "slideshow": {
     "slide_type": "slide"
    }
   },
   "source": [
    "# System Design"
   ]
  },
  {
   "cell_type": "markdown",
   "metadata": {
    "slideshow": {
     "slide_type": "slide"
    }
   },
   "source": [
    "## System Design\n",
    "- Specific data: City **Weißenburg** (49°01'53.5\"N 10°57'54.0\"E), database year: **2019**\n",
    "- Backup and peak load system: Heating Element\n",
    "\n",
    "![System design](../2_doc/energy_system.svg)\n",
    "---"
   ]
  },
  {
   "cell_type": "markdown",
   "metadata": {
    "slideshow": {
     "slide_type": "slide"
    }
   },
   "source": [
    "<!-- Slide 2 -->\n",
    "## Researched data: Wind and photovoltaic \n",
    "- Normalized pv data (from PV-GIS 30 degree south)\n",
    "- Normalized wind data (from renewables.ninja based on merra2, 1500kW GE1.7)\n",
    "  \n",
    "<iframe src=\"../1_plot/Zeitreihe_Wind [norm kW].html\" width=\"100%\" height=\"250\" frameborder=\"0\"></iframe>\n",
    "\n",
    "<iframe src=\"../1_plot/Zeitreihe_PV [norm kWp].html\" width=\"100%\" height=\"250\" frameborder=\"0\"></iframe>\n"
   ]
  },
  {
   "cell_type": "markdown",
   "metadata": {
    "slideshow": {
     "slide_type": "slide"
    }
   },
   "source": [
    "## COP based on the outside air temperature\n",
    "\n",
    "- The weather station 5440 of the german weather service is located at Weissenburg-Emetzheim, it tracks the air temperature\n",
    "- Air temperature of the year 2019\n",
    "\n",
    "<iframe src=\"../1_plot/Zeitreihe_Air temperature of german weather station DWD 5440.html\" width=\"100%\" height=\"500\" frameborder=\"0\"></iframe>\n"
   ]
  },
  {
   "cell_type": "markdown",
   "metadata": {
    "slideshow": {
     "slide_type": "subslide"
    }
   },
   "source": [
    "## Common cop curve\n",
    "- Interpolation of some points of a datasheet\n",
    "- Minimum working temperature: -10°C Degree\n",
    "\n",
    "<iframe src=\"../1_plot/Zeitreihe_COP based on temperature - common cop curve.html\" width=\"100%\" height=\"550\" frameborder=\"0\"></iframe>\n"
   ]
  },
  {
   "cell_type": "markdown",
   "metadata": {
    "slideshow": {
     "slide_type": "subslide"
    }
   },
   "source": [
    "## Result cop based on outside temperature\n",
    "1. Set some example Datapoints (COP, Temperature) based on a datasheet of a heatpump\n",
    "2. Calculate for each temperature the cop \n",
    "3. Normalized the mean COP on the yearly used cop of a heatpump (not every heatpump offers data about temperature dependent cop)\n",
    "\n",
    "\n",
    "<iframe src=\"../1_plot/Zeitreihe_COP based on temperature 2019.html\" width=\"100%\" height=\"500\" frameborder=\"0\"></iframe>"
   ]
  },
  {
   "cell_type": "markdown",
   "metadata": {
    "slideshow": {
     "slide_type": "slide"
    }
   },
   "source": [
    "# System Configuration"
   ]
  },
  {
   "cell_type": "markdown",
   "metadata": {
    "slideshow": {
     "slide_type": "slide"
    }
   },
   "source": [
    "## System Configuration: Method\n",
    "\n",
    "1. Investment optimization with oemof based on given and researched CAPEX and OPEX (cost optimized and co2 optimized)\n",
    "2. Doing a research on the web to ensure that the calculated sizes are feasible\n",
    "3. Set nominal values based on results of the investment optimization and the researched values (Set higher values for the backup system) \n",
    "4. Run the Model as a cost optimized schedule\n",
    "5. Run the Model as co2 optimized schedule (adding extra co2 costs to gas and grid and add a maximum constrain of co2)"
   ]
  },
  {
   "cell_type": "markdown",
   "metadata": {
    "slideshow": {
     "slide_type": "slide"
    }
   },
   "source": [
    "## System Configuration: Cost assumptions\n",
    "\n",
    "| Element             | CAPEX   | OPEX |\n",
    "| ------------------- | ------- | ---- |\n",
    "| Balance of system   | 30% of invest | - |\n",
    "| Gasfired CHP        | 750 [€/𝑘𝑊] + balance of system | 25% of CAPEX |\n",
    "| Electrical storage  | 450 [€/𝑘𝑊] + balance of system | 25% of CAPEX |\n",
    "| Heatpump large      | 1500 [€/𝑘𝑊] + balance of system | 25% of CAPEX |\n",
    "| Ground mounted PV   | 750 [€/𝑘𝑊] + balance of system | 25% of CAPEX |\n",
    "| Seasonal storage    | 4,2 [€/𝑘𝑊h] + balance of system | 25% of CAPEX |\n",
    "| Heating element     | 80 [€/𝑘𝑊] + balance of system | 25% of CAPEX |\n",
    "| Wind turbine        | 1000 [€/𝑘𝑊] + balance of system | 25% of CAPEX |\n",
    "| Grid fees           | - | 0,32 [€/𝑘𝑊ℎ] |\n",
    "| Grid fees heatpump  | - | 0,25 [€/𝑘𝑊ℎ] |\n",
    "| Gas                 | - | 0,08 [€/𝑘𝑊ℎ] |\n",
    "| Overall system costs| 30% of all CAPEX | 25% of overall system costs |"
   ]
  },
  {
   "cell_type": "markdown",
   "metadata": {
    "slideshow": {
     "slide_type": "subslide"
    }
   },
   "source": [
    "## Emission assumptions\n",
    "\n",
    "The following emission of the energy carriers were used in the project:\n",
    "| Energy carrier                                         | Emissions in CO2 Equivalent (g/kWh) |\n",
    "| ----------------------------------------------------- | ----------------------------------- |\n",
    "| Electricity grid supply                               | 560                                 |\n",
    "| Natural gas                                           | 240                                 |"
   ]
  },
  {
   "cell_type": "markdown",
   "metadata": {
    "slideshow": {
     "slide_type": "slide"
    }
   },
   "source": [
    "## System Configuration: sizing of the components\n",
    "\n",
    "- Three different size configurations  \n",
    "  \n",
    "\n",
    "| Component | Optimal Size (Cost-optimized) | Optimal Size (CO2-optimized) | Real World (Backup system, feasible values) |\n",
    "|-----------|-------------------------------|-------------------------------|---------------------------------------------|\n",
    "| Gas-fired CHP | 358 kW | 0 kW | 200 kW (mean) |\n",
    "| Seasonal Storage | 11858 kWh | 174878 kWh | 150000 kWh |\n",
    "| Electrical Storage | 0 kWh | 8605 kWh | 4000 kWh |\n",
    "| Heat pump large | 507 kW | 615 kW | 500 kW (feasible) |\n",
    "| Ground mounted PV | 3000 kW (max bound) | 3000 kW (max bound) | 3000 kW |\n",
    "| Heating Element | 132 kW | 80 kW | 3000 kW (Backup) |\n",
    "| Wind turbine | 3000 kW (max bound) | 3000 kW (max bound) | 3000 kW |"
   ]
  },
  {
   "cell_type": "markdown",
   "metadata": {
    "slideshow": {
     "slide_type": "slide"
    }
   },
   "source": [
    "## System Configuration: results\n",
    "\n",
    "- Four different energy schedules and resulting costs\n",
    "\n",
    "\n",
    "\n",
    "|                                                  | Optimal Size: Cost-optimized                     | Optimal Size: CO2-optimized                     | Real World: Cost-optimized                     | Real World: CO2-optimized                     |\n",
    "|:-------------------------------------------------|:-------------------------------------------------|:------------------------------------------------|:-----------------------------------------------|:----------------------------------------------|\n",
    "| Yearly CAPEX Electricity                         | 619 k€                                           | 1076 k€                                         | 837 k€                                         | 793 k€                                        |\n",
    "| Yearly OPEX Electricity                          | 226 k€                                           | 269 k€                                          | 249 k€                                         | 201 k€                                        |\n",
    "| Yearly CAPEX Heat                                | 241 k€                                           | 396 k€                                          | 359 k€                                         | 403 k€                                        |\n",
    "| Yearly OPEX Heat                                 | 112 k€                                           | 99 k€                                           | 116 k€                                         | 102 k€                                        |\n",
    "| Levelized Costs of Heat                          | 0.054 €/kWh                                      | 0.076 €/kWh                                     | 0.073 €/kWh                                    | 0.078 €/kWh                                   |\n",
    "| Levelized Costs of Electricity                   | 0.077 €/kWh                                      | 0.135 €/kWh                                     | 0.103 €/kWh                                    | 0.102 €/kWh                                   |\n",
    "| CO2-Emissions                                    | 365 t CO2                                        | 0 t CO2                                         | 199 t CO2                                      | 11 t CO2                                      |"
   ]
  },
  {
   "cell_type": "markdown",
   "metadata": {
    "slideshow": {
     "slide_type": "slide"
    }
   },
   "source": [
    "<!-- cost opmizized-->\n",
    "## Sankey Diagramm: Optimal size - cost optimized\n",
    "<iframe src=\"../1_plot/sankey_diagramm_optimal_size_cost_optimized.html\" width=\"100%\" height=\"550\" frameborder=\"0\"></iframe>\n",
    "\n",
    "---"
   ]
  },
  {
   "cell_type": "markdown",
   "metadata": {
    "slideshow": {
     "slide_type": "subslide"
    }
   },
   "source": [
    "<!-- Slide 3 -->\n",
    "## Energy Schedule: Optimal size - cost optimized\n",
    "<iframe src=\"../1_plot/Zeitreihe_Energy schedule optimal_size_cost_optimized.html\" width=\"100%\" height=\"550\" frameborder=\"0\"></iframe>\n",
    "\n",
    "---"
   ]
  },
  {
   "cell_type": "markdown",
   "metadata": {
    "slideshow": {
     "slide_type": "subslide"
    }
   },
   "source": [
    "<!-- Slide 3 -->\n",
    "## Seasonal storage: optimal size - cost optimized\n",
    "<iframe src=\"../1_plot/Zeitreihe_Monthly energy volumes of the heat storage optimal_size_cost_optimized.html\" width=\"100%\" height=\"550\" frameborder=\"0\"></iframe>\n",
    "\n",
    "---"
   ]
  },
  {
   "cell_type": "markdown",
   "metadata": {
    "slideshow": {
     "slide_type": "slide"
    }
   },
   "source": [
    "<!-- Slide 3 -->\n",
    "## Sankey Diagramm: Optimal size - co2 optimized\n",
    "<iframe src=\"../1_plot/sankey_diagramm_optimal_size_co2_optimized.html\" width=\"100%\" height=\"550\" frameborder=\"0\"></iframe>\n",
    "\n",
    "---"
   ]
  },
  {
   "cell_type": "markdown",
   "metadata": {
    "slideshow": {
     "slide_type": "subslide"
    }
   },
   "source": [
    "<!-- Slide 3 -->\n",
    "## Energy Schedule: Optimal size - co2 optimized\n",
    "<iframe src=\"../1_plot/Zeitreihe_Energy schedule optimal_size_co2_optimized.html\" width=\"100%\" height=\"550\" frameborder=\"0\"></iframe>\n",
    "\n",
    "---"
   ]
  },
  {
   "cell_type": "markdown",
   "metadata": {
    "slideshow": {
     "slide_type": "subslide"
    }
   },
   "source": [
    "<!-- Slide 3 -->\n",
    "## Seasonal storage: Optimal size - co2 optimized\n",
    "<iframe src=\"../1_plot/Zeitreihe_Monthly energy volumes of the heat storage optimal_size_co2_optimized.html\" width=\"100%\" height=\"550\" frameborder=\"0\"></iframe>\n",
    "\n",
    "---"
   ]
  },
  {
   "cell_type": "markdown",
   "metadata": {
    "slideshow": {
     "slide_type": "slide"
    }
   },
   "source": [
    "<!-- Slide 3 -->\n",
    "## Sankey Diagramm: Real world - cost optimized\n",
    "<iframe src=\"../1_plot/sankey_diagramm_real_world_cost_optimized.html\" width=\"100%\" height=\"550\" frameborder=\"0\"></iframe>\n",
    "\n",
    "---"
   ]
  },
  {
   "cell_type": "markdown",
   "metadata": {
    "slideshow": {
     "slide_type": "subslide"
    }
   },
   "source": [
    "<!-- Slide 3 -->\n",
    "## Energy Schedule: Real world - cost optimized\n",
    "<iframe src=\"../1_plot/Zeitreihe_Energy schedule real_world_cost_optimized.html\" width=\"100%\" height=\"550\" frameborder=\"0\"></iframe>\n",
    "\n",
    "---"
   ]
  },
  {
   "cell_type": "markdown",
   "metadata": {
    "slideshow": {
     "slide_type": "subslide"
    }
   },
   "source": [
    "<!-- Slide 3 -->\n",
    "## Seasonal storage: Real world - cost optimized\n",
    "<iframe src=\"../1_plot/Zeitreihe_Monthly energy volumes of the heat storage real_world_cost_optimized.html\" width=\"100%\" height=\"550\" frameborder=\"0\"></iframe>\n",
    "\n",
    "---"
   ]
  },
  {
   "cell_type": "markdown",
   "metadata": {
    "slideshow": {
     "slide_type": "slide"
    }
   },
   "source": [
    "<!-- Slide 3 -->\n",
    "## Sankey Diagramm: Real world - co2 optimized\n",
    "<iframe src=\"../1_plot/sankey_diagramm_real_world_co2_optimized.html\" width=\"100%\" height=\"550\" frameborder=\"0\"></iframe>\n",
    "\n",
    "---"
   ]
  },
  {
   "cell_type": "markdown",
   "metadata": {
    "slideshow": {
     "slide_type": "subslide"
    }
   },
   "source": [
    "<!-- Slide 3 -->\n",
    "## Energy Schedule: Real world - co2 optimized\n",
    "<iframe src=\"../1_plot/Zeitreihe_Energy schedule real_world_co2_optimized.html\" width=\"100%\" height=\"550\" frameborder=\"0\"></iframe>\n",
    "\n",
    "---"
   ]
  },
  {
   "cell_type": "markdown",
   "metadata": {
    "slideshow": {
     "slide_type": "subslide"
    }
   },
   "source": [
    "<!-- Slide 3 -->\n",
    "## Seasonal storage: Real world - co2 optimized\n",
    "<iframe src=\"../1_plot/Zeitreihe_Monthly energy volumes of the heat storage real_world_co2_optimized.html\" width=\"100%\" height=\"550\" frameborder=\"0\"></iframe>\n",
    "\n",
    "---"
   ]
  }
 ],
 "metadata": {
  "kernelspec": {
   "display_name": "Python 3",
   "language": "python",
   "name": "python3"
  },
  "language_info": {
   "name": "python",
   "version": "3.11.0"
  }
 },
 "nbformat": 4,
 "nbformat_minor": 2
}
